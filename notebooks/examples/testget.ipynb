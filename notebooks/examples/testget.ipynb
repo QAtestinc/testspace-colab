{
 "metadata": {
  "language_info": {
   "codemirror_mode": {
    "name": "ipython",
    "version": 3
   },
   "file_extension": ".py",
   "mimetype": "text/x-python",
   "name": "python",
   "nbconvert_exporter": "python",
   "pygments_lexer": "ipython3",
   "version": "3.7.3"
  },
  "orig_nbformat": 2,
  "kernelspec": {
   "name": "testspace-colab",
   "display_name": "Python 3.7.3 64-bit ('env': venv)"
  }
 },
 "nbformat": 4,
 "nbformat_minor": 2,
 "cells": [
  {
   "cell_type": "code",
   "execution_count": null,
   "metadata": {},
   "outputs": [],
   "source": [
    "import os\n",
    "import testspace_colab\n",
    "import jsonpath_ng\n",
    "import sys\n",
    "#TS_TOKEN = os.environ.get('TESTSPACE_TOKEN')"
   ]
  },
  {
   "cell_type": "code",
   "execution_count": null,
   "metadata": {},
   "outputs": [],
   "source": [
    "PROJECT=\"trytestspace:prettier\"\n",
    "SPACE=\"add-test-reporting-failures\"\n",
    "URL=\"s2.testspace.com\""
   ]
  },
  {
   "cell_type": "code",
   "execution_count": null,
   "metadata": {},
   "outputs": [],
   "source": [
    "#api = testspace_colab.API(token=TS_TOKEN, url=URL, project=PROJECT, space=SPACE)\n",
    "api = testspace_colab.API(url=URL, project=PROJECT, space=SPACE)\n",
    "results = api.get_results(project=PROJECT, space=SPACE)\n",
    "id = results[0]['id']"
   ]
  },
  {
   "cell_type": "code",
   "execution_count": null,
   "metadata": {},
   "outputs": [],
   "source": [
    "total_cases = results[0][\"case_counts\"][0] + results[0][\"case_counts\"][1] + results[0][\"case_counts\"][3]\n",
    "print(\"Total cases:\", total_cases)"
   ]
  },
  {
   "cell_type": "code",
   "execution_count": null,
   "metadata": {},
   "outputs": [],
   "source": [
    "#details = api.get_result_details(id, project=PROJECT, space=SPACE)\n",
    "#flat_details = [match.value for match in jsonpath_ng.parse('$..cases[:]').find(details)]"
   ]
  },
  {
   "cell_type": "code",
   "execution_count": null,
   "metadata": {},
   "outputs": [],
   "source": [
    "#print(\"Flat total cases:\", len(flat_details))"
   ]
  }
 ]
}